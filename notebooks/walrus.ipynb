{
 "cells": [
  {
   "cell_type": "markdown",
   "id": "574ab292",
   "metadata": {},
   "source": [
    "# APIs usage example"
   ]
  },
  {
   "cell_type": "code",
   "execution_count": 1,
   "id": "21a9302f",
   "metadata": {},
   "outputs": [
    {
     "name": "stdout",
     "output_type": "stream",
     "text": [
      "Requests defaults are set.\n"
     ]
    }
   ],
   "source": [
    "#! pip install restmagic\n",
    "#! docker-compose up -d walrus\n",
    "\n",
    "walrus = 'http://127.0.0.1:31415'\n",
    "\n",
    "%load_ext restmagic\n",
    "%rest_root --timeout 30 $walrus\n",
    "\n",
    "import random\n",
    "import string"
   ]
  },
  {
   "cell_type": "markdown",
   "id": "da856b22",
   "metadata": {},
   "source": [
    "## Exploring Walrus HTTP API"
   ]
  },
  {
   "cell_type": "markdown",
   "id": "3e99c1d5",
   "metadata": {},
   "source": [
    "### Check SUI gas"
   ]
  },
  {
   "cell_type": "code",
   "execution_count": 2,
   "id": "c473f49a",
   "metadata": {},
   "outputs": [
    {
     "name": "stdout",
     "output_type": "stream",
     "text": [
      "\u001b[1;33m[warn] Client/Server api version mismatch, client api version : 1.32.3, server api version : 1.32.1\u001b[0m\n",
      "╭────────────────────────────────────────────────────────────────────┬────────────────────┬──────────────────╮\n",
      "│ gasCoinId                                                          │ mistBalance (MIST) │ suiBalance (SUI) │\n",
      "├────────────────────────────────────────────────────────────────────┼────────────────────┼──────────────────┤\n",
      "│ 0x53e04f789b22455c23e483930ac3dc1fd7dfb65a60fc28b5784006d9be6d597b │ 869321664          │ 0.86             │\n",
      "╰────────────────────────────────────────────────────────────────────┴────────────────────┴──────────────────╯\n"
     ]
    }
   ],
   "source": [
    "!docker-compose exec walrus sui client gas"
   ]
  },
  {
   "cell_type": "code",
   "execution_count": 3,
   "id": "689dd344",
   "metadata": {},
   "outputs": [
    {
     "data": {
      "text/plain": [
       "'opvvoqcjsrsskrqyxnywnxgqnkqkzibuhjhkllkygiibykymrtkjwdpxehpetupqmizwvqihqatbpdsyvjwmgfbzfwwmwhehbnjukywfukpbbopbplgzormsqcympmfr'"
      ]
     },
     "execution_count": 3,
     "metadata": {},
     "output_type": "execute_result"
    }
   ],
   "source": [
    "text = ''.join(random.choice(string.ascii_lowercase) for i in range(128))\n",
    "text"
   ]
  },
  {
   "cell_type": "markdown",
   "id": "92796228",
   "metadata": {},
   "source": [
    "### Upload a new data"
   ]
  },
  {
   "cell_type": "code",
   "execution_count": 4,
   "id": "3a90aad4",
   "metadata": {},
   "outputs": [
    {
     "data": {
      "text/plain": [
       "{\n",
       "  \"newlyCreated\": {\n",
       "    \"blobObject\": {\n",
       "      \"id\": \"0x267ffbcc0bf63723cb2df50d4d5f23ecec2b0debb11931c0ef1ce68a22fb2069\",\n",
       "      \"storedEpoch\": 0,\n",
       "      \"blobId\": \"t7apjBWR1Lid4m4f5NA4nyol98gxGDZ-keofkKu8_7Y\",\n",
       "      \"size\": 128,\n",
       "      \"erasureCodeType\": \"RedStuff\",\n",
       "      \"certifiedEpoch\": 0,\n",
       "      \"storage\": {\n",
       "        \"id\": \"0xf4ee2f23fc94c52efb401569c1db065f3e10b2dffd9e3420dd4169b175b64ccf\",\n",
       "        \"startEpoch\": 0,\n",
       "        \"endEpoch\": 1,\n",
       "        \"storageSize\": 65023000\n",
       "      }\n",
       "    },\n",
       "    \"encodedSize\": 65023000,\n",
       "    \"cost\": 3175000\n",
       "  }\n",
       "}"
      ]
     },
     "metadata": {},
     "output_type": "display_data"
    },
    {
     "data": {
      "text/plain": [
       "<Response [200]>"
      ]
     },
     "execution_count": 4,
     "metadata": {},
     "output_type": "execute_result"
    }
   ],
   "source": [
    "%%rest PUT $walrus/v1/store\n",
    "\n",
    "$text"
   ]
  },
  {
   "cell_type": "markdown",
   "id": "362ae778",
   "metadata": {},
   "source": [
    "### Repeat request with same data"
   ]
  },
  {
   "cell_type": "code",
   "execution_count": 5,
   "id": "3e3d6f9e",
   "metadata": {},
   "outputs": [
    {
     "data": {
      "text/plain": [
       "{\n",
       "  \"alreadyCertified\": {\n",
       "    \"blobId\": \"t7apjBWR1Lid4m4f5NA4nyol98gxGDZ-keofkKu8_7Y\",\n",
       "    \"event\": {\n",
       "      \"txDigest\": \"37o6gU7yqWYdWD62nBhiFfX86RXBndMH2vWFdeUU7PvA\",\n",
       "      \"eventSeq\": \"0\"\n",
       "    },\n",
       "    \"endEpoch\": 1\n",
       "  }\n",
       "}"
      ]
     },
     "metadata": {},
     "output_type": "display_data"
    },
    {
     "data": {
      "text/plain": [
       "<Response [200]>"
      ]
     },
     "execution_count": 5,
     "metadata": {},
     "output_type": "execute_result"
    }
   ],
   "source": [
    "%%rest PUT $walrus/v1/store\n",
    "\n",
    "$text"
   ]
  },
  {
   "cell_type": "code",
   "execution_count": 6,
   "id": "033e13de",
   "metadata": {},
   "outputs": [
    {
     "data": {
      "text/plain": [
       "'t7apjBWR1Lid4m4f5NA4nyol98gxGDZ-keofkKu8_7Y'"
      ]
     },
     "execution_count": 6,
     "metadata": {},
     "output_type": "execute_result"
    }
   ],
   "source": [
    "r = _\n",
    "blob_id = r.json()[\"alreadyCertified\"][\"blobId\"]\n",
    "blob_id"
   ]
  },
  {
   "cell_type": "markdown",
   "id": "0e277243",
   "metadata": {},
   "source": [
    "### Read the data"
   ]
  },
  {
   "cell_type": "code",
   "execution_count": 7,
   "id": "4eca3574",
   "metadata": {},
   "outputs": [
    {
     "data": {
      "text/plain": [
       "opvvoqcjsrsskrqyxnywnxgqnkqkzibuhjhkllkygiibykymrtkjwdpxehpetupqmizwvqihqatbpdsyvjwmgfbzfwwmwhehbnjukywfukpbbopbplgzormsqcympmfr"
      ]
     },
     "metadata": {},
     "output_type": "display_data"
    },
    {
     "data": {
      "text/plain": [
       "<Response [200]>"
      ]
     },
     "execution_count": 7,
     "metadata": {},
     "output_type": "execute_result"
    }
   ],
   "source": [
    "%rest GET $walrus/v1/$blob_id"
   ]
  },
  {
   "cell_type": "code",
   "execution_count": 8,
   "id": "61f1828d",
   "metadata": {},
   "outputs": [],
   "source": [
    "assert _.text == text"
   ]
  },
  {
   "cell_type": "markdown",
   "id": "524e05da",
   "metadata": {},
   "source": [
    "## Using the service API"
   ]
  },
  {
   "cell_type": "markdown",
   "id": "625ee92c",
   "metadata": {},
   "source": [
    "### Upload encrypted message"
   ]
  },
  {
   "cell_type": "code",
   "execution_count": 9,
   "id": "3baa9974",
   "metadata": {},
   "outputs": [
    {
     "data": {
      "text/plain": [
       "{\"message\":\"22212f2a-81d5-44ae-abee-ae3858b077df\"}"
      ]
     },
     "metadata": {},
     "output_type": "display_data"
    },
    {
     "data": {
      "text/plain": [
       "<Response [200]>"
      ]
     },
     "execution_count": 9,
     "metadata": {},
     "output_type": "execute_result"
    }
   ],
   "source": [
    "%%rest POST http://127.0.0.1/secret\n",
    "Content-Type: text/plain;charset=UTF-8\n",
    "    \n",
    "{\n",
    "    \"expiration\":3600,\n",
    "    \"message\":\"-----BEGIN PGP MESSAGE-----\\n\\nwy4ECQMIE8LMYHdCKuLgDbn6q+hCfizvxRJULGLz/xj0Dqc/MGJI0E2nSbT4\\nXIL70joBdGho0I9p/N8qdpWSA+44A47G4pD/mWZVK8dwGO2ILt32vaepu7ng\\nY/3W3gKi3+NNpUsmW3xmpeSs\\n=9TMv\\n-----END PGP MESSAGE-----\\n\",\n",
    "    \"one_time\":true\n",
    "}"
   ]
  },
  {
   "cell_type": "code",
   "execution_count": 10,
   "id": "d17a1591",
   "metadata": {},
   "outputs": [
    {
     "data": {
      "text/plain": [
       "'22212f2a-81d5-44ae-abee-ae3858b077df'"
      ]
     },
     "execution_count": 10,
     "metadata": {},
     "output_type": "execute_result"
    }
   ],
   "source": [
    "# Service returns the ID of stored message\n",
    "storage_id = _.json()[\"message\"]\n",
    "storage_id"
   ]
  },
  {
   "cell_type": "markdown",
   "id": "a0f8d857",
   "metadata": {},
   "source": [
    "### Redis\n",
    "\n",
    "Redis stores the mapping of message ID -> Walrus blob ID:"
   ]
  },
  {
   "cell_type": "code",
   "execution_count": 11,
   "id": "f6888182",
   "metadata": {},
   "outputs": [
    {
     "name": "stdout",
     "output_type": "stream",
     "text": [
      "\"{\\\"expiration\\\":3600,\\\"message\\\":\\\"KoTGzKKLnxPUGU_ZGQsfrEB8veGQMqSZAtNljD3Ijq8\\\",\\\"one_time\\\":true}\"\r\n"
     ]
    }
   ],
   "source": [
    "!docker-compose exec -it redis redis-cli get $storage_id"
   ]
  },
  {
   "cell_type": "markdown",
   "id": "82b48b10",
   "metadata": {},
   "source": [
    "### Walrus\n",
    "\n",
    "Corresponding blob in the Walrus:"
   ]
  },
  {
   "cell_type": "code",
   "execution_count": 12,
   "id": "242eda01",
   "metadata": {},
   "outputs": [
    {
     "data": {
      "text/plain": [
       "{\"expiration\":3600,\"message\":\"-----BEGIN PGP MESSAGE-----\\n\\nwy4ECQMIE8LMYHdCKuLgDbn6q+hCfizvxRJULGLz/xj0Dqc/MGJI0E2nSbT4\\nXIL70joBdGho0I9p/N8qdpWSA+44A47G4pD/mWZVK8dwGO2ILt32vaepu7ng\\nY/3W3gKi3+NNpUsmW3xmpeSs\\n=9TMv\\n-----END PGP MESSAGE-----\\n\",\"one_time\":true}"
      ]
     },
     "metadata": {},
     "output_type": "display_data"
    },
    {
     "data": {
      "text/plain": [
       "<Response [200]>"
      ]
     },
     "execution_count": 12,
     "metadata": {},
     "output_type": "execute_result"
    }
   ],
   "source": [
    "%rest GET $walrus/v1/KoTGzKKLnxPUGU_ZGQsfrEB8veGQMqSZAtNljD3Ijq8"
   ]
  },
  {
   "cell_type": "markdown",
   "id": "35822316",
   "metadata": {},
   "source": [
    "### Download encrypted message \n",
    "\n",
    "Client receives encrypted data, when using the service API:"
   ]
  },
  {
   "cell_type": "code",
   "execution_count": 13,
   "id": "5df12404",
   "metadata": {},
   "outputs": [
    {
     "data": {
      "text/plain": [
       "{\"expiration\":3600,\"message\":\"-----BEGIN PGP MESSAGE-----\\n\\nwy4ECQMIE8LMYHdCKuLgDbn6q+hCfizvxRJULGLz/xj0Dqc/MGJI0E2nSbT4\\nXIL70joBdGho0I9p/N8qdpWSA+44A47G4pD/mWZVK8dwGO2ILt32vaepu7ng\\nY/3W3gKi3+NNpUsmW3xmpeSs\\n=9TMv\\n-----END PGP MESSAGE-----\\n\",\"one_time\":true}"
      ]
     },
     "metadata": {},
     "output_type": "display_data"
    },
    {
     "data": {
      "text/plain": [
       "<Response [200]>"
      ]
     },
     "execution_count": 13,
     "metadata": {},
     "output_type": "execute_result"
    }
   ],
   "source": [
    "%rest GET http://127.0.0.1/secret/$storage_id"
   ]
  }
 ],
 "metadata": {
  "kernelspec": {
   "display_name": "Python 3 (ipykernel)",
   "language": "python",
   "name": "python3"
  },
  "language_info": {
   "codemirror_mode": {
    "name": "ipython",
    "version": 3
   },
   "file_extension": ".py",
   "mimetype": "text/x-python",
   "name": "python",
   "nbconvert_exporter": "python",
   "pygments_lexer": "ipython3",
   "version": "3.10.12"
  }
 },
 "nbformat": 4,
 "nbformat_minor": 5
}
