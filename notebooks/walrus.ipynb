{
 "cells": [
  {
   "cell_type": "markdown",
   "id": "3b9745bc",
   "metadata": {},
   "source": [
    "# Exploring Walrus HTTP API"
   ]
  },
  {
   "cell_type": "code",
   "execution_count": 1,
   "id": "e926e949",
   "metadata": {},
   "outputs": [
    {
     "name": "stdout",
     "output_type": "stream",
     "text": [
      "Requests defaults are set.\n"
     ]
    }
   ],
   "source": [
    "#! pip install restmagic\n",
    "#! docker-compose up -d walrus\n",
    "\n",
    "%load_ext restmagic\n",
    "%rest_root --timeout 30 http://127.0.0.1:31415\n",
    "\n",
    "import random\n",
    "import string"
   ]
  },
  {
   "cell_type": "code",
   "execution_count": 2,
   "id": "f552d23b",
   "metadata": {},
   "outputs": [
    {
     "data": {
      "text/plain": [
       "'yltvgypbxcjmbtntovzsukefmedztcbyzlxgepvozopyxczbnxngsfkadpbhkngpjohkrlflyuxwmjigukrceixujwdllxfmvyuxyqnrmmzddafatxxugmqzqyitqcgc'"
      ]
     },
     "execution_count": 2,
     "metadata": {},
     "output_type": "execute_result"
    }
   ],
   "source": [
    "text = ''.join(random.choice(string.ascii_lowercase) for i in range(128))\n",
    "text"
   ]
  },
  {
   "cell_type": "markdown",
   "id": "320d2bbb",
   "metadata": {},
   "source": [
    "### Upload a new data"
   ]
  },
  {
   "cell_type": "code",
   "execution_count": 3,
   "id": "899f2ea8",
   "metadata": {},
   "outputs": [
    {
     "data": {
      "text/plain": [
       "{\n",
       "  \"newlyCreated\": {\n",
       "    \"blobObject\": {\n",
       "      \"id\": \"0x8920bba31a92e5227ca0e0fd9d32d6913a7c89fbf93beebbc6aadb189df61cb2\",\n",
       "      \"storedEpoch\": 0,\n",
       "      \"blobId\": \"CDNAVMBlr_vca0TX7ctrUehCb9bIiy1uO1S1J0OtFaM\",\n",
       "      \"size\": 128,\n",
       "      \"erasureCodeType\": \"RedStuff\",\n",
       "      \"certifiedEpoch\": 0,\n",
       "      \"storage\": {\n",
       "        \"id\": \"0x06964d68e6e07ddfc27c3c905ade5cd2a4dae2c703069743fb147bc1f6ac20bd\",\n",
       "        \"startEpoch\": 0,\n",
       "        \"endEpoch\": 1,\n",
       "        \"storageSize\": 65023000\n",
       "      }\n",
       "    },\n",
       "    \"encodedSize\": 65023000,\n",
       "    \"cost\": 3175000\n",
       "  }\n",
       "}"
      ]
     },
     "metadata": {},
     "output_type": "display_data"
    },
    {
     "data": {
      "text/plain": [
       "<Response [200]>"
      ]
     },
     "execution_count": 3,
     "metadata": {},
     "output_type": "execute_result"
    }
   ],
   "source": [
    "%%rest PUT v1/store\n",
    "\n",
    "$text"
   ]
  },
  {
   "cell_type": "markdown",
   "id": "2b9a6980",
   "metadata": {},
   "source": [
    "### Repeat request with same data"
   ]
  },
  {
   "cell_type": "code",
   "execution_count": 4,
   "id": "c4a10815",
   "metadata": {},
   "outputs": [
    {
     "data": {
      "text/plain": [
       "{\n",
       "  \"alreadyCertified\": {\n",
       "    \"blobId\": \"CDNAVMBlr_vca0TX7ctrUehCb9bIiy1uO1S1J0OtFaM\",\n",
       "    \"event\": {\n",
       "      \"txDigest\": \"CGdkdbXrgboBSvELG8WRnMBLAPRxvXK41XP2QL2PMeU9\",\n",
       "      \"eventSeq\": \"0\"\n",
       "    },\n",
       "    \"endEpoch\": 1\n",
       "  }\n",
       "}"
      ]
     },
     "metadata": {},
     "output_type": "display_data"
    },
    {
     "data": {
      "text/plain": [
       "<Response [200]>"
      ]
     },
     "execution_count": 4,
     "metadata": {},
     "output_type": "execute_result"
    }
   ],
   "source": [
    "%%rest --timeout 30 PUT http://127.0.0.1:31415/v1/store\n",
    "\n",
    "$text"
   ]
  },
  {
   "cell_type": "code",
   "execution_count": 5,
   "id": "b3c07460",
   "metadata": {},
   "outputs": [
    {
     "data": {
      "text/plain": [
       "'CDNAVMBlr_vca0TX7ctrUehCb9bIiy1uO1S1J0OtFaM'"
      ]
     },
     "execution_count": 5,
     "metadata": {},
     "output_type": "execute_result"
    }
   ],
   "source": [
    "r = _\n",
    "blob_id = r.json()[\"alreadyCertified\"][\"blobId\"]\n",
    "blob_id"
   ]
  },
  {
   "cell_type": "markdown",
   "id": "c866acb7",
   "metadata": {},
   "source": [
    "### Read the data"
   ]
  },
  {
   "cell_type": "code",
   "execution_count": 6,
   "id": "3040334a",
   "metadata": {},
   "outputs": [
    {
     "data": {
      "text/plain": [
       "yltvgypbxcjmbtntovzsukefmedztcbyzlxgepvozopyxczbnxngsfkadpbhkngpjohkrlflyuxwmjigukrceixujwdllxfmvyuxyqnrmmzddafatxxugmqzqyitqcgc"
      ]
     },
     "metadata": {},
     "output_type": "display_data"
    },
    {
     "data": {
      "text/plain": [
       "<Response [200]>"
      ]
     },
     "execution_count": 6,
     "metadata": {},
     "output_type": "execute_result"
    }
   ],
   "source": [
    "%rest GET /v1/$blob_id"
   ]
  },
  {
   "cell_type": "code",
   "execution_count": 7,
   "id": "a6f7365e",
   "metadata": {},
   "outputs": [],
   "source": [
    "assert _.text == text"
   ]
  }
 ],
 "metadata": {
  "kernelspec": {
   "display_name": "Python 3 (ipykernel)",
   "language": "python",
   "name": "python3"
  },
  "language_info": {
   "codemirror_mode": {
    "name": "ipython",
    "version": 3
   },
   "file_extension": ".py",
   "mimetype": "text/x-python",
   "name": "python",
   "nbconvert_exporter": "python",
   "pygments_lexer": "ipython3",
   "version": "3.10.12"
  }
 },
 "nbformat": 4,
 "nbformat_minor": 5
}
