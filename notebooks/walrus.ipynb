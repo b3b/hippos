{
 "cells": [
  {
   "cell_type": "markdown",
   "id": "4745009c",
   "metadata": {},
   "source": [
    "# Exploring Walrus HTTP API"
   ]
  },
  {
   "cell_type": "code",
   "execution_count": 1,
   "id": "36ce21c8",
   "metadata": {},
   "outputs": [
    {
     "name": "stdout",
     "output_type": "stream",
     "text": [
      "Requests defaults are set.\n"
     ]
    }
   ],
   "source": [
    "#! pip install restmagic\n",
    "#! docker-compose up -d walrus\n",
    "\n",
    "%load_ext restmagic\n",
    "%rest_root --timeout 30 http://127.0.0.1:31415\n",
    "\n",
    "import random\n",
    "import string"
   ]
  },
  {
   "cell_type": "code",
   "execution_count": 2,
   "id": "690c5957",
   "metadata": {},
   "outputs": [
    {
     "data": {
      "text/plain": [
       "'cybfeamvjpiqfykmmtisdgmmzzvahlsmxsrmlywtfvhhgtpxjajsncwwsawbygayclbnhnrkudldhbeybrobhbnhbldumtslcfamcranmwreambffkefxaejnwxhwazg'"
      ]
     },
     "execution_count": 2,
     "metadata": {},
     "output_type": "execute_result"
    }
   ],
   "source": [
    "text = ''.join(random.choice(string.ascii_lowercase) for i in range(128))\n",
    "text"
   ]
  },
  {
   "cell_type": "markdown",
   "id": "7b3a6d49",
   "metadata": {},
   "source": [
    "### Upload a new data"
   ]
  },
  {
   "cell_type": "code",
   "execution_count": 3,
   "id": "16f3d8b9",
   "metadata": {},
   "outputs": [
    {
     "data": {
      "text/plain": [
       "{\n",
       "  \"newlyCreated\": {\n",
       "    \"blobObject\": {\n",
       "      \"id\": \"0x0c7a602aeff33b5af436123cf8fcd4b94915526474924a9259c51a839c5b46f9\",\n",
       "      \"storedEpoch\": 0,\n",
       "      \"blobId\": \"JBqFoYgV5H8H034w9UfmuJ3hvmApm9D1IbgQM9mvHP0\",\n",
       "      \"size\": 128,\n",
       "      \"erasureCodeType\": \"RedStuff\",\n",
       "      \"certifiedEpoch\": 0,\n",
       "      \"storage\": {\n",
       "        \"id\": \"0x2470a753735b72907fe22e12918ccb97d6563fff1e82d79fddcc7abbc0ad4e95\",\n",
       "        \"startEpoch\": 0,\n",
       "        \"endEpoch\": 1,\n",
       "        \"storageSize\": 65023000\n",
       "      }\n",
       "    },\n",
       "    \"encodedSize\": 65023000,\n",
       "    \"cost\": 3175000\n",
       "  }\n",
       "}"
      ]
     },
     "metadata": {},
     "output_type": "display_data"
    },
    {
     "data": {
      "text/plain": [
       "<Response [200]>"
      ]
     },
     "execution_count": 3,
     "metadata": {},
     "output_type": "execute_result"
    }
   ],
   "source": [
    "%%rest PUT v1/store\n",
    "\n",
    "$text"
   ]
  },
  {
   "cell_type": "markdown",
   "id": "6bddf39c",
   "metadata": {},
   "source": [
    "### Repeat request with same data"
   ]
  },
  {
   "cell_type": "code",
   "execution_count": 4,
   "id": "ce62c131",
   "metadata": {},
   "outputs": [
    {
     "data": {
      "text/plain": [
       "{\n",
       "  \"alreadyCertified\": {\n",
       "    \"blobId\": \"JBqFoYgV5H8H034w9UfmuJ3hvmApm9D1IbgQM9mvHP0\",\n",
       "    \"event\": {\n",
       "      \"txDigest\": \"hnj9VNK8yDowAdmjvgiQHPfeSQZcRCTQ5F7hvHpU1rs\",\n",
       "      \"eventSeq\": \"0\"\n",
       "    },\n",
       "    \"endEpoch\": 1\n",
       "  }\n",
       "}"
      ]
     },
     "metadata": {},
     "output_type": "display_data"
    },
    {
     "data": {
      "text/plain": [
       "<Response [200]>"
      ]
     },
     "execution_count": 4,
     "metadata": {},
     "output_type": "execute_result"
    }
   ],
   "source": [
    "%%rest PUT /v1/store\n",
    "\n",
    "$text"
   ]
  },
  {
   "cell_type": "code",
   "execution_count": 5,
   "id": "86b17aa7",
   "metadata": {},
   "outputs": [
    {
     "data": {
      "text/plain": [
       "'JBqFoYgV5H8H034w9UfmuJ3hvmApm9D1IbgQM9mvHP0'"
      ]
     },
     "execution_count": 5,
     "metadata": {},
     "output_type": "execute_result"
    }
   ],
   "source": [
    "r = _\n",
    "blob_id = r.json()[\"alreadyCertified\"][\"blobId\"]\n",
    "blob_id"
   ]
  },
  {
   "cell_type": "markdown",
   "id": "4cb70506",
   "metadata": {},
   "source": [
    "### Read the data"
   ]
  },
  {
   "cell_type": "code",
   "execution_count": 6,
   "id": "81256d7b",
   "metadata": {},
   "outputs": [
    {
     "data": {
      "text/plain": [
       "cybfeamvjpiqfykmmtisdgmmzzvahlsmxsrmlywtfvhhgtpxjajsncwwsawbygayclbnhnrkudldhbeybrobhbnhbldumtslcfamcranmwreambffkefxaejnwxhwazg"
      ]
     },
     "metadata": {},
     "output_type": "display_data"
    },
    {
     "data": {
      "text/plain": [
       "<Response [200]>"
      ]
     },
     "execution_count": 6,
     "metadata": {},
     "output_type": "execute_result"
    }
   ],
   "source": [
    "%rest GET /v1/$blob_id"
   ]
  },
  {
   "cell_type": "code",
   "execution_count": 7,
   "id": "87b4c12d",
   "metadata": {},
   "outputs": [],
   "source": [
    "assert _.text == text"
   ]
  }
 ],
 "metadata": {
  "kernelspec": {
   "display_name": "Python 3 (ipykernel)",
   "language": "python",
   "name": "python3"
  },
  "language_info": {
   "codemirror_mode": {
    "name": "ipython",
    "version": 3
   },
   "file_extension": ".py",
   "mimetype": "text/x-python",
   "name": "python",
   "nbconvert_exporter": "python",
   "pygments_lexer": "ipython3",
   "version": "3.10.12"
  }
 },
 "nbformat": 4,
 "nbformat_minor": 5
}
